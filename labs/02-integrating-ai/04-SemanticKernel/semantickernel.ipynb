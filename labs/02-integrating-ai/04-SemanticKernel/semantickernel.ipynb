{
 "cells": [
  {
   "attachments": {},
   "cell_type": "markdown",
   "metadata": {},
   "source": [
    "# 04. Semantic Kernel\n",
    "\n",
    "In this lab, we will introduce **Semantic Kernel**. Like **Langchain**, it provides a framework for working with AI models and supports applications written in Python. Semantic Kernel also adds support for .NET and Java applications.\n",
    "\n",
    "As with the other labs, we'll start by reading in values from the `.env` file.\n",
    "\n",
    "___\n",
    "**NOTE**: This lab uses **.NET** so be sure to select .NET and not Python when starting to use this notebook.\n",
    "___"
   ]
  },
  {
   "cell_type": "code",
   "execution_count": 1,
   "metadata": {
    "dotnet_interactive": {
     "language": "csharp"
    },
    "polyglot_notebook": {
     "kernelName": "csharp"
    },
    "vscode": {
     "languageId": "polyglot-notebook"
    }
   },
   "outputs": [
    {
     "data": {
      "text/html": [
       "<div><div></div><div></div><div><strong>Installed Packages</strong><ul><li><span>dotenv.net, 3.1.2</span></li></ul></div></div>"
      ]
     },
     "metadata": {},
     "output_type": "display_data"
    }
   ],
   "source": [
    "#r \"nuget: dotenv.net, 3.1.2\"\n",
    "\n",
    "using dotenv.net;\n",
    "\n",
    "// Read values from .env file\n",
    "var envVars = DotEnv.Fluent()\n",
    "    .WithoutExceptions()\n",
    "    .WithEnvFiles(\"../../../.env\")\n",
    "    .WithTrimValues()\n",
    "    .WithDefaultEncoding()\n",
    "    .WithOverwriteExistingVars()\n",
    "    .WithoutProbeForEnv()\n",
    "    .Read();\n",
    "\n",
    "// Load values into variables and strip quotes\n",
    "var model = envVars[\"AZURE_OPENAI_COMPLETION_DEPLOYMENT_NAME\"].Replace(\"\\\"\", \"\");\n",
    "var azureEndpoint = envVars[\"AZURE_OPENAI_ENDPOINT\"].Replace(\"\\\"\", \"\");\n",
    "var apiKey = envVars[\"AZURE_OPENAI_API_KEY\"].Replace(\"\\\"\", \"\");\n"
   ]
  },
  {
   "attachments": {},
   "cell_type": "markdown",
   "metadata": {},
   "source": [
    "To start working with Semantic Kernel, we'll need to load its nuget package."
   ]
  },
  {
   "cell_type": "code",
   "execution_count": 2,
   "metadata": {
    "dotnet_interactive": {
     "language": "csharp"
    },
    "polyglot_notebook": {
     "kernelName": "csharp"
    },
    "vscode": {
     "languageId": "polyglot-notebook"
    }
   },
   "outputs": [
    {
     "data": {
      "text/html": [
       "<div><div></div><div></div><div><strong>Installed Packages</strong><ul><li><span>Microsoft.SemanticKernel, 1.0.1</span></li></ul></div></div>"
      ]
     },
     "metadata": {},
     "output_type": "display_data"
    }
   ],
   "source": [
    "#r \"nuget: Microsoft.SemanticKernel, 1.0.1\""
   ]
  },
  {
   "attachments": {},
   "cell_type": "markdown",
   "metadata": {},
   "source": [
    "Semantic Kernel works by creating an instance of the Kernel and then adding in various plugins to perform different functions. Those addins or functions can then be called individually or chained together to perform more complex tasks.\n",
    "\n",
    "We use the standard .NET `builder` pattern to initialise the kernel. Notice that we pass in the details of the completion model that we're going to use, the Azure OpenAI API endpoint URL and the API key."
   ]
  },
  {
   "cell_type": "code",
   "execution_count": 3,
   "metadata": {
    "dotnet_interactive": {
     "language": "csharp"
    },
    "polyglot_notebook": {
     "kernelName": "csharp"
    },
    "vscode": {
     "languageId": "polyglot-notebook"
    }
   },
   "outputs": [],
   "source": [
    "using Microsoft.SemanticKernel;\n",
    "\n",
    "var builder = Kernel.CreateBuilder();\n",
    "builder.Services.AddAzureOpenAIChatCompletion(model, azureEndpoint, apiKey);\n",
    "var kernel = builder.Build();"
   ]
  },
  {
   "attachments": {},
   "cell_type": "markdown",
   "metadata": {},
   "source": [
    "Let's create a Semantic Function to perform a simple request to Azure OpenAI. In this case, the function contains a *prompt template*. The template allows us to define a prompt and add placeholders for values that we will provide later. These values could come from user input, or another function, for example."
   ]
  },
  {
   "cell_type": "code",
   "execution_count": 4,
   "metadata": {
    "dotnet_interactive": {
     "language": "csharp"
    },
    "polyglot_notebook": {
     "kernelName": "csharp"
    },
    "vscode": {
     "languageId": "polyglot-notebook"
    }
   },
   "outputs": [],
   "source": [
    "var whatCanIMakeFunction = kernel.CreateFunctionFromPrompt(\n",
    "    new PromptTemplateConfig()\n",
    "    {\n",
    "        Template = @\"What interesting things can I make with a {{$item}}?\",\n",
    "        InputVariables = [\n",
    "            new() { Name = \"item\", Description = \"An item to make something with.\", IsRequired=true }\n",
    "        ]\n",
    "    });\n"
   ]
  },
  {
   "attachments": {},
   "cell_type": "markdown",
   "metadata": {},
   "source": [
    "`{{$item}}` represents the value we will provide later and will be replaced when we make the call to Azure OpenAI.\n",
    "\n",
    "Next, we'll define a value for `item` and then call the function, passing in the `item` as we do so."
   ]
  },
  {
   "cell_type": "code",
   "execution_count": 5,
   "metadata": {
    "dotnet_interactive": {
     "language": "csharp"
    },
    "polyglot_notebook": {
     "kernelName": "csharp"
    },
    "vscode": {
     "languageId": "polyglot-notebook"
    }
   },
   "outputs": [
    {
     "name": "stdout",
     "output_type": "stream",
     "text": [
      "The Raspberry Pi is a versatile and powerful single-board computer that can be used for a wide range of projects. Here are some interesting things you can make with a Raspberry Pi:\n",
      "\n",
      "1. Retro Gaming Console: Set up a Raspberry Pi as a retro gaming console using emulation software like RetroPie or Lakka, and play classic games from systems like NES, SNES, Sega Genesis, etc.\n",
      "\n",
      "2. Home Media Center: Turn your Raspberry Pi into a media center using Kodi or Plex, and stream movies, TV shows, and music to your TV or any other device.\n",
      "\n",
      "3. Smart Home Hub: Create a smart home hub using Home Assistant or OpenHAB, and control your lights, appliances, security cameras, and more from a single interface.\n",
      "\n",
      "4. Portable Arcade Machine: Build a portable arcade machine with a Raspberry Pi and a small display, and play your favorite arcade games on the go.\n",
      "\n",
      "5. Weather Station: Set up a Raspberry Pi as a weather station to monitor temperature, humidity, air pressure, and other weather conditions using sensors and display the data on a website or dashboard.\n",
      "\n",
      "6. Home Automation System: Automate your home by connecting sensors, switches, and other devices to a Raspberry Pi, and control them remotely through a mobile app or voice command.\n",
      "\n",
      "7. Network Attached Storage (NAS): Turn your Raspberry Pi into a NAS device by connecting external hard drives and setting up file sharing protocols like Samba or FTP to access your files over the network.\n",
      "\n",
      "8. Robot or Drone Controller: Use a Raspberry Pi to control robots or drones by connecting sensors, motors, and other components, and program it to perform various tasks.\n",
      "\n",
      "9. IoT Gateway: Set up a Raspberry Pi as an IoT gateway to connect and control multiple IoT devices from different protocols, making it easier to manage your smart home.\n",
      "\n",
      "10. Security System: Build a DIY security system using a Raspberry Pi, a camera module, and motion sensors, and receive alerts or monitor your home remotely when any activity is detected.\n",
      "\n",
      "Remember, these are just a few examples, and there are countless other projects you can explore with a Raspberry Pi. The possibilities are limited only by your imagination!\n"
     ]
    }
   ],
   "source": [
    "string item = \"raspberry pi\";\n",
    "\n",
    "var response = await kernel.InvokeAsync(whatCanIMakeFunction, new () { { \"item\", item }});\n",
    "\n",
    "Console.WriteLine(response);"
   ]
  },
  {
   "attachments": {},
   "cell_type": "markdown",
   "metadata": {},
   "source": [
    "The result is a list of ideas for things we could make with a Raspberry Pi. \n",
    "\n",
    "We could then use Semantic Kernel to take that list of ideas and summarize it. First, we'll create a new prompt that will generate a summary of some text."
   ]
  },
  {
   "cell_type": "code",
   "execution_count": 6,
   "metadata": {
    "dotnet_interactive": {
     "language": "csharp"
    },
    "polyglot_notebook": {
     "kernelName": "csharp"
    },
    "vscode": {
     "languageId": "polyglot-notebook"
    }
   },
   "outputs": [],
   "source": [
    "var thingsToMakeSummary = kernel.CreateFunctionFromPrompt(\n",
    "    new PromptTemplateConfig()\n",
    "    {\n",
    "        Template = @\"Summarize the following text: {{$thingsToMake}}?\",\n",
    "        InputVariables = [\n",
    "            new() { Name = \"thingsToMake\", Description = \"A list of things you could make.\", IsRequired=true }\n",
    "        ]\n",
    "    });"
   ]
  },
  {
   "cell_type": "markdown",
   "metadata": {},
   "source": [
    "Next, we can call the kernel again, this time passing in the list of ideas, the `response` from the previous call, as the value for `thingsToMake`."
   ]
  },
  {
   "cell_type": "code",
   "execution_count": 7,
   "metadata": {
    "dotnet_interactive": {
     "language": "csharp"
    },
    "polyglot_notebook": {
     "kernelName": "csharp"
    },
    "vscode": {
     "languageId": "polyglot-notebook"
    }
   },
   "outputs": [
    {
     "name": "stdout",
     "output_type": "stream",
     "text": [
      "The Raspberry Pi is a versatile single-board computer that can be used for various projects. Some examples include creating a retro gaming console, turning it into a media center, creating a smart home hub, building a portable arcade machine, setting up a weather station, automating your home, turning it into a network attached storage device, using it as a controller for robots or drones, setting it up as an IoT gateway, or building a DIY security system. The possibilities for projects with a Raspberry Pi are endless.\n"
     ]
    }
   ],
   "source": [
    "var summary = await kernel.InvokeAsync(thingsToMakeSummary, new () { { \"thingsToMake\", response }});\n",
    "\n",
    "Console.WriteLine(summary);"
   ]
  },
  {
   "attachments": {},
   "cell_type": "markdown",
   "metadata": {},
   "source": [
    "## Summary\n",
    "\n",
    "Semantic Kernel is another example of an AI orchestrator. Like other orchestrators, it can be used to simplify the process of creating complex AI applications."
   ]
  },
  {
   "cell_type": "markdown",
   "metadata": {},
   "source": [
    "## Next Section\n",
    "\n",
    "📣 [AI Orchestration](../../03-orchestration/README.md)"
   ]
  }
 ],
 "metadata": {
  "language_info": {
   "name": "python"
  },
  "orig_nbformat": 4
 },
 "nbformat": 4,
 "nbformat_minor": 2
}
